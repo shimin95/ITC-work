{
  "cells": [
    {
      "cell_type": "code",
      "execution_count": 1210,
      "metadata": {
        "id": "CLH6pwT0ZFf1"
      },
      "outputs": [],
      "source": [
        "import numpy as np\n",
        "import pandas as pd\n",
        "from matplotlib import pyplot as plt\n",
        "from scipy.stats import multivariate_normal as mvn\n",
        "from PIL import Image\n",
        "from scipy.ndimage import rotate"
      ]
    },
    {
      "cell_type": "code",
      "execution_count": 1223,
      "metadata": {
        "id": "K9Ho-FcficPM"
      },
      "outputs": [],
      "source": [
        "# importing the MNIST dataset training set \n",
        "data = pd.read_csv('MNIST_train.csv',header=None,skiprows=1,dtype={1: float, 2: int})\n",
        "# importing the test set\n",
        "test_data = pd.read_csv('MNIST_test.csv', header=None, skiprows=1, dtype={1: 'float', 2: 'int'})\n",
        "# x_test and y_test\n",
        "X_test = test_data.iloc[:,3:]\n",
        "y_test = test_data.iloc[:,2]"
      ]
    },
    {
      "cell_type": "code",
      "execution_count": 1224,
      "metadata": {},
      "outputs": [
        {
          "data": {
            "text/plain": [
              "0\n",
              "0      668\n",
              "254     27\n",
              "198      8\n",
              "67       4\n",
              "52       3\n",
              "      ... \n",
              "233      1\n",
              "255      1\n",
              "84       1\n",
              "238      1\n",
              "207      1\n",
              "Name: count, Length: 72, dtype: int64"
            ]
          },
          "execution_count": 1224,
          "metadata": {},
          "output_type": "execute_result"
        }
      ],
      "source": [
        "# count of values in first row of X_test\n",
        "X_test.iloc[0].value_counts()"
      ]
    },
    {
      "cell_type": "code",
      "execution_count": 1225,
      "metadata": {
        "colab": {
          "base_uri": "https://localhost:8080/",
          "height": 235
        },
        "id": "D4Khv_ndUeRy",
        "outputId": "68d2aa8b-e969-4d1a-f7de-478d10085a22"
      },
      "outputs": [
        {
          "data": {
            "text/html": [
              "<div>\n",
              "<style scoped>\n",
              "    .dataframe tbody tr th:only-of-type {\n",
              "        vertical-align: middle;\n",
              "    }\n",
              "\n",
              "    .dataframe tbody tr th {\n",
              "        vertical-align: top;\n",
              "    }\n",
              "\n",
              "    .dataframe thead th {\n",
              "        text-align: right;\n",
              "    }\n",
              "</style>\n",
              "<table border=\"1\" class=\"dataframe\">\n",
              "  <thead>\n",
              "    <tr style=\"text-align: right;\">\n",
              "      <th></th>\n",
              "      <th>0</th>\n",
              "      <th>1</th>\n",
              "      <th>2</th>\n",
              "      <th>3</th>\n",
              "      <th>4</th>\n",
              "      <th>5</th>\n",
              "      <th>6</th>\n",
              "      <th>7</th>\n",
              "      <th>8</th>\n",
              "      <th>9</th>\n",
              "      <th>...</th>\n",
              "      <th>777</th>\n",
              "      <th>778</th>\n",
              "      <th>779</th>\n",
              "      <th>780</th>\n",
              "      <th>781</th>\n",
              "      <th>782</th>\n",
              "      <th>783</th>\n",
              "      <th>784</th>\n",
              "      <th>785</th>\n",
              "      <th>786</th>\n",
              "    </tr>\n",
              "  </thead>\n",
              "  <tbody>\n",
              "    <tr>\n",
              "      <th>0</th>\n",
              "      <td>0</td>\n",
              "      <td>0.0</td>\n",
              "      <td>5</td>\n",
              "      <td>0</td>\n",
              "      <td>0</td>\n",
              "      <td>0</td>\n",
              "      <td>0</td>\n",
              "      <td>0</td>\n",
              "      <td>0</td>\n",
              "      <td>0</td>\n",
              "      <td>...</td>\n",
              "      <td>0</td>\n",
              "      <td>0</td>\n",
              "      <td>0</td>\n",
              "      <td>0</td>\n",
              "      <td>0</td>\n",
              "      <td>0</td>\n",
              "      <td>0</td>\n",
              "      <td>0</td>\n",
              "      <td>0</td>\n",
              "      <td>0</td>\n",
              "    </tr>\n",
              "    <tr>\n",
              "      <th>1</th>\n",
              "      <td>1</td>\n",
              "      <td>1.0</td>\n",
              "      <td>0</td>\n",
              "      <td>0</td>\n",
              "      <td>0</td>\n",
              "      <td>0</td>\n",
              "      <td>0</td>\n",
              "      <td>0</td>\n",
              "      <td>0</td>\n",
              "      <td>0</td>\n",
              "      <td>...</td>\n",
              "      <td>0</td>\n",
              "      <td>0</td>\n",
              "      <td>0</td>\n",
              "      <td>0</td>\n",
              "      <td>0</td>\n",
              "      <td>0</td>\n",
              "      <td>0</td>\n",
              "      <td>0</td>\n",
              "      <td>0</td>\n",
              "      <td>0</td>\n",
              "    </tr>\n",
              "    <tr>\n",
              "      <th>2</th>\n",
              "      <td>2</td>\n",
              "      <td>2.0</td>\n",
              "      <td>4</td>\n",
              "      <td>0</td>\n",
              "      <td>0</td>\n",
              "      <td>0</td>\n",
              "      <td>0</td>\n",
              "      <td>0</td>\n",
              "      <td>0</td>\n",
              "      <td>0</td>\n",
              "      <td>...</td>\n",
              "      <td>0</td>\n",
              "      <td>0</td>\n",
              "      <td>0</td>\n",
              "      <td>0</td>\n",
              "      <td>0</td>\n",
              "      <td>0</td>\n",
              "      <td>0</td>\n",
              "      <td>0</td>\n",
              "      <td>0</td>\n",
              "      <td>0</td>\n",
              "    </tr>\n",
              "    <tr>\n",
              "      <th>3</th>\n",
              "      <td>3</td>\n",
              "      <td>3.0</td>\n",
              "      <td>1</td>\n",
              "      <td>0</td>\n",
              "      <td>0</td>\n",
              "      <td>0</td>\n",
              "      <td>0</td>\n",
              "      <td>0</td>\n",
              "      <td>0</td>\n",
              "      <td>0</td>\n",
              "      <td>...</td>\n",
              "      <td>0</td>\n",
              "      <td>0</td>\n",
              "      <td>0</td>\n",
              "      <td>0</td>\n",
              "      <td>0</td>\n",
              "      <td>0</td>\n",
              "      <td>0</td>\n",
              "      <td>0</td>\n",
              "      <td>0</td>\n",
              "      <td>0</td>\n",
              "    </tr>\n",
              "    <tr>\n",
              "      <th>4</th>\n",
              "      <td>4</td>\n",
              "      <td>4.0</td>\n",
              "      <td>9</td>\n",
              "      <td>0</td>\n",
              "      <td>0</td>\n",
              "      <td>0</td>\n",
              "      <td>0</td>\n",
              "      <td>0</td>\n",
              "      <td>0</td>\n",
              "      <td>0</td>\n",
              "      <td>...</td>\n",
              "      <td>0</td>\n",
              "      <td>0</td>\n",
              "      <td>0</td>\n",
              "      <td>0</td>\n",
              "      <td>0</td>\n",
              "      <td>0</td>\n",
              "      <td>0</td>\n",
              "      <td>0</td>\n",
              "      <td>0</td>\n",
              "      <td>0</td>\n",
              "    </tr>\n",
              "  </tbody>\n",
              "</table>\n",
              "<p>5 rows × 787 columns</p>\n",
              "</div>"
            ],
            "text/plain": [
              "   0    1    2    3    4    5    6    7    8    9    ...  777  778  779  780  \\\n",
              "0    0  0.0    5    0    0    0    0    0    0    0  ...    0    0    0    0   \n",
              "1    1  1.0    0    0    0    0    0    0    0    0  ...    0    0    0    0   \n",
              "2    2  2.0    4    0    0    0    0    0    0    0  ...    0    0    0    0   \n",
              "3    3  3.0    1    0    0    0    0    0    0    0  ...    0    0    0    0   \n",
              "4    4  4.0    9    0    0    0    0    0    0    0  ...    0    0    0    0   \n",
              "\n",
              "   781  782  783  784  785  786  \n",
              "0    0    0    0    0    0    0  \n",
              "1    0    0    0    0    0    0  \n",
              "2    0    0    0    0    0    0  \n",
              "3    0    0    0    0    0    0  \n",
              "4    0    0    0    0    0    0  \n",
              "\n",
              "[5 rows x 787 columns]"
            ]
          },
          "execution_count": 1225,
          "metadata": {},
          "output_type": "execute_result"
        }
      ],
      "source": [
        "# peeking at the da\n",
        "data.head()"
      ]
    },
    {
      "cell_type": "code",
      "execution_count": 1226,
      "metadata": {
        "colab": {
          "base_uri": "https://localhost:8080/"
        },
        "id": "ck2CAIPyn2UH",
        "outputId": "092a98a7-92f1-49df-ac04-7767b0a03eda"
      },
      "outputs": [
        {
          "data": {
            "text/plain": [
              "2\n",
              "1    6742\n",
              "7    6265\n",
              "3    6131\n",
              "2    5958\n",
              "9    5949\n",
              "0    5923\n",
              "6    5918\n",
              "8    5851\n",
              "4    5842\n",
              "5    5421\n",
              "Name: count, dtype: int64"
            ]
          },
          "execution_count": 1226,
          "metadata": {},
          "output_type": "execute_result"
        }
      ],
      "source": [
        "# checking the proportion of labels\n",
        "data.iloc[:,2].value_counts()"
      ]
    },
    {
      "cell_type": "code",
      "execution_count": 1227,
      "metadata": {
        "colab": {
          "base_uri": "https://localhost:8080/"
        },
        "id": "GZwsrPjkPLl5",
        "outputId": "c0ed66ce-f5ea-475f-f07a-9106a80aaec2"
      },
      "outputs": [
        {
          "data": {
            "text/plain": [
              "0    787\n",
              "Name: count, dtype: int64"
            ]
          },
          "execution_count": 1227,
          "metadata": {},
          "output_type": "execute_result"
        }
      ],
      "source": [
        "# checking for nulls\n",
        "data.isnull().sum().value_counts()"
      ]
    },
    {
      "cell_type": "code",
      "execution_count": 1228,
      "metadata": {
        "id": "PegzceUM3o4_"
      },
      "outputs": [],
      "source": [
        "# Extract the label and pixel values\n",
        "y_train = data.iloc[:,2]\n",
        "\n",
        "# Extract X_labels\n",
        "X_train = data.iloc[:,3:] # Starting from index 3 to skip Unnamed: 0, index, and labels columns"
      ]
    },
    {
      "cell_type": "code",
      "execution_count": 1229,
      "metadata": {
        "colab": {
          "base_uri": "https://localhost:8080/"
        },
        "id": "SZKU4d51QgCD",
        "outputId": "9b80af92-212a-461c-d2bb-6ec9d946c000"
      },
      "outputs": [
        {
          "data": {
            "text/plain": [
              "0    5\n",
              "1    0\n",
              "2    4\n",
              "3    1\n",
              "4    9\n",
              "Name: 2, dtype: int32"
            ]
          },
          "execution_count": 1229,
          "metadata": {},
          "output_type": "execute_result"
        }
      ],
      "source": [
        "y_train.head()"
      ]
    },
    {
      "cell_type": "code",
      "execution_count": 1230,
      "metadata": {},
      "outputs": [
        {
          "data": {
            "text/plain": [
              "2\n",
              "1    6742\n",
              "7    6265\n",
              "3    6131\n",
              "2    5958\n",
              "9    5949\n",
              "0    5923\n",
              "6    5918\n",
              "8    5851\n",
              "4    5842\n",
              "5    5421\n",
              "Name: count, dtype: int64"
            ]
          },
          "execution_count": 1230,
          "metadata": {},
          "output_type": "execute_result"
        }
      ],
      "source": [
        "# check the proportions of labels in the dataset\n",
        "y_train.value_counts()"
      ]
    },
    {
      "cell_type": "markdown",
      "metadata": {},
      "source": [
        "## Data Exploration"
      ]
    },
    {
      "cell_type": "code",
      "execution_count": 1231,
      "metadata": {},
      "outputs": [
        {
          "data": {
            "text/plain": [
              "<matplotlib.image.AxesImage at 0x22b0798e7d0>"
            ]
          },
          "execution_count": 1231,
          "metadata": {},
          "output_type": "execute_result"
        },
        {
          "data": {
            "image/png": "[encoded data removed]",
            "text/plain": [
              "<Figure size 640x480 with 1 Axes>"
            ]
          },
          "metadata": {},
          "output_type": "display_data"
        }
      ],
      "source": [
        "# average image of a 9\n",
        "nine = X_train[y_train==9]\n",
        "nine = nine.mean(axis=0)\n",
        "nine = nine.values.reshape(28,28)\n",
        "plt.imshow(nine,cmap='gray')"
      ]
    },
    {
      "cell_type": "code",
      "execution_count": 1232,
      "metadata": {},
      "outputs": [
        {
          "data": {
            "text/plain": [
              "<matplotlib.image.AxesImage at 0x22b076e1350>"
            ]
          },
          "execution_count": 1232,
          "metadata": {},
          "output_type": "execute_result"
        },
        {
          "data": {
            "image/png": "[encoded data removed]",
            "text/plain": [
              "<Figure size 640x480 with 1 Axes>"
            ]
          },
          "metadata": {},
          "output_type": "display_data"
        }
      ],
      "source": [
        "### average image of 7 \n",
        "seven = X_train[y_train==7]\n",
        "seven = seven.mean(axis=0)\n",
        "seven = seven.values.reshape(28,28)\n",
        "plt.imshow(seven,cmap='gray')\n"
      ]
    },
    {
      "cell_type": "markdown",
      "metadata": {},
      "source": [
        "## Data Transformations"
      ]
    },
    {
      "cell_type": "code",
      "execution_count": 1233,
      "metadata": {},
      "outputs": [],
      "source": [
        "# # apply min max scaling \n",
        "X_train = X_train/255\n",
        "X_test = X_test/255"
      ]
    },
    {
      "cell_type": "code",
      "execution_count": 1234,
      "metadata": {},
      "outputs": [],
      "source": [
        "# # change to numpy\n",
        "X_train = np.array(X_train)\n",
        "X_test = np.array(X_test)"
      ]
    },
    {
      "cell_type": "markdown",
      "metadata": {
        "id": "R3Hpf0hiczj6"
      },
      "source": [
        "## KNN Classifier Class"
      ]
    },
    {
      "cell_type": "code",
      "execution_count": 1235,
      "metadata": {
        "id": "fphHMRAycig9"
      },
      "outputs": [],
      "source": [
        "# # sensitive to magnitude of values (consider min-max normalization)\n",
        "# # scales horrible with the dimensionality of the dataset\n",
        "\n",
        "# class KNNClassifier():\n",
        "\n",
        "#   def fit(self, X, y):\n",
        "#     self.X=X\n",
        "#     self.y=y\n",
        "\n",
        "#   def predict(self, X, K, epsilon =1e-2):\n",
        "\n",
        "#     N=len(X)\n",
        "#     y_hat = np.zeros(N)\n",
        "#     for i in range(N):\n",
        "#       dist2 = np.sum((self.X-X[i])**2, axis=1)\n",
        "#       idxt  = np.argsort(dist2)[:K]\n",
        "#       gamma_k = 1/(np.sqrt(dist2[idxt]+epsilon))\n",
        "#       y_hat[i] = np.bincount(self.y[idxt], weights= gamma_k).argmax()\n",
        "\n",
        "#     return y_hat"
      ]
    },
    {
      "cell_type": "markdown",
      "metadata": {
        "id": "bMfGJbkDhBdN"
      },
      "source": [
        "### Naive Bayes"
      ]
    },
    {
      "cell_type": "code",
      "execution_count": 1236,
      "metadata": {
        "id": "o5yDCX0Xg_pQ"
      },
      "outputs": [],
      "source": [
        "class GaussNB():\n",
        "\n",
        "  def fit(self,X,y,epsilon = 1e-3):\n",
        "\n",
        "    self.likelihoods = dict()\n",
        "    self.priors = dict()\n",
        "    self.K = set(y.astype(int))\n",
        "\n",
        "    for k in self.K:\n",
        "      X_k = X[y == k, :]\n",
        "      if X_k.size == 0:  # Check if X_k is empty\n",
        "          print(f\"Warning: No data points found for class {k}. Skipping.\")\n",
        "          continue\n",
        "      self.likelihoods[k] = {\"mean\": X_k.mean(axis=0), \"cov\": X_k.var(axis=0) + epsilon}\n",
        "      self.priors[k] = len(X_k) / len(X)\n",
        "\n",
        "  def predict(self,X):\n",
        "\n",
        "    N, D = X.shape\n",
        "    P_hat = np.zeros((N,len(self.K)))\n",
        "\n",
        "    for k,l in self.likelihoods.items():\n",
        "      # Apply Bayes Theorem\n",
        "      P_hat[:,k] = mvn.logpdf(X,l[\"mean\"],l[\"cov\"]) + np.log(self.priors[k])\n",
        "\n",
        "    return P_hat.argmax(axis=1)\n"
      ]
    },
    {
      "cell_type": "markdown",
      "metadata": {
        "id": "StMQaSnningb"
      },
      "source": [
        "### Bayes Gaussian Model"
      ]
    },
    {
      "cell_type": "code",
      "execution_count": 1237,
      "metadata": {
        "id": "IMaKptw0imjD"
      },
      "outputs": [],
      "source": [
        "class GaussBayes():\n",
        "\n",
        "  def fit(self,X,y, epsilon =1e-3):\n",
        "    self.likelihoods = dict()\n",
        "    self.priors = dict()\n",
        "    self.K = set(y.astype(int))\n",
        "\n",
        "    for k in self.K:\n",
        "      X_k = X[y==k,:]\n",
        "      N_k, D = X_k.shape\n",
        "      mu_k = X_k.mean(axis=0)\n",
        "\n",
        "      self.likelihoods[k] = {\"mean\": X_k.mean(axis=0),\n",
        "                             \"cov\":(1/(N_k-1))*np.matmul((X_k-mu_k).T,X_k-mu_k)+epsilon*np.identity(D)}\n",
        "\n",
        "      self.priors[k] = len(X_k)/len(X)\n",
        "\n",
        "  def predict(self,X):\n",
        "    N,D = X.shape\n",
        "    P_hat = np.zeros((N,len(self.K)))\n",
        "    for k,l in self.likelihoods.items():\n",
        "      P_hat[:,k]=mvn.logpdf(X,l[\"mean\"],l[\"cov\"])+np.log(self.priors[k])\n",
        "\n",
        "    return P_hat.argmax(axis=1)\n",
        "\n"
      ]
    },
    {
      "cell_type": "markdown",
      "metadata": {
        "id": "i_5_OVy37YTQ"
      },
      "source": [
        "### Training the KNN model"
      ]
    },
    {
      "cell_type": "code",
      "execution_count": 1238,
      "metadata": {},
      "outputs": [],
      "source": [
        "gnb = GaussNB()"
      ]
    },
    {
      "cell_type": "code",
      "execution_count": 1239,
      "metadata": {
        "id": "vF3XwU9Bhb1F"
      },
      "outputs": [],
      "source": [
        "gnb.fit(X_train,y_train)"
      ]
    },
    {
      "cell_type": "code",
      "execution_count": 1240,
      "metadata": {
        "id": "8pRkUMqKixFE"
      },
      "outputs": [],
      "source": [
        "gb = GaussBayes()"
      ]
    },
    {
      "cell_type": "code",
      "execution_count": 1241,
      "metadata": {
        "id": "sEYaiawVi2s3"
      },
      "outputs": [],
      "source": [
        "gb.fit(X_train,y_train)"
      ]
    },
    {
      "cell_type": "markdown",
      "metadata": {
        "id": "pJxbSs8bCsmC"
      },
      "source": [
        "### Testing On the Test Set"
      ]
    },
    {
      "cell_type": "code",
      "execution_count": 1242,
      "metadata": {
        "id": "Snp-Q1wmD98d"
      },
      "outputs": [],
      "source": [
        "# X_test\n",
        "#X_test=test_data.iloc[:,3:].to_numpy()\n",
        "\n",
        "# y_test from original dataset\n",
        "y_test=y_test.to_numpy()"
      ]
    },
    {
      "cell_type": "code",
      "execution_count": 1243,
      "metadata": {},
      "outputs": [
        {
          "data": {
            "text/plain": [
              "1    1135\n",
              "2    1032\n",
              "7    1028\n",
              "3    1010\n",
              "9    1009\n",
              "4     982\n",
              "0     980\n",
              "8     974\n",
              "6     958\n",
              "5     892\n",
              "Name: count, dtype: int64"
            ]
          },
          "execution_count": 1243,
          "metadata": {},
          "output_type": "execute_result"
        }
      ],
      "source": [
        "# proportions of labels in the test set \n",
        "pd.Series(y_test).value_counts()"
      ]
    },
    {
      "cell_type": "code",
      "execution_count": 1244,
      "metadata": {
        "colab": {
          "base_uri": "https://localhost:8080/"
        },
        "id": "gVYaAOh-H8v9",
        "outputId": "2cd5b472-0a8d-40c0-d699-678849c7b745"
      },
      "outputs": [
        {
          "data": {
            "text/plain": [
              "array([[0., 0., 0., ..., 0., 0., 0.],\n",
              "       [0., 0., 0., ..., 0., 0., 0.],\n",
              "       [0., 0., 0., ..., 0., 0., 0.],\n",
              "       ...,\n",
              "       [0., 0., 0., ..., 0., 0., 0.],\n",
              "       [0., 0., 0., ..., 0., 0., 0.],\n",
              "       [0., 0., 0., ..., 0., 0., 0.]])"
            ]
          },
          "execution_count": 1244,
          "metadata": {},
          "output_type": "execute_result"
        }
      ],
      "source": [
        "X_test"
      ]
    },
    {
      "cell_type": "code",
      "execution_count": 1246,
      "metadata": {
        "id": "nrGLo3jAhno2"
      },
      "outputs": [],
      "source": [
        "# naive bayes was considerably faster than KNN\n",
        "y_hat_gnb = gnb.predict(X_test)"
      ]
    },
    {
      "cell_type": "code",
      "execution_count": 1247,
      "metadata": {
        "id": "YQ3btRnMicXw"
      },
      "outputs": [],
      "source": [
        "# predicts for gaussian bayes\n",
        "y_hat_gb = gb.predict(X_test)"
      ]
    },
    {
      "cell_type": "code",
      "execution_count": 1248,
      "metadata": {
        "id": "QsJ0Wv8a5pFa"
      },
      "outputs": [],
      "source": [
        "def accuracy(y,y_hat):\n",
        "  return np.mean(y==y_hat)"
      ]
    },
    {
      "cell_type": "code",
      "execution_count": 1249,
      "metadata": {
        "colab": {
          "base_uri": "https://localhost:8080/"
        },
        "id": "731XCAXKjYwo",
        "outputId": "ead60404-16e5-4b8b-cf6a-0cdf570dd1cb"
      },
      "outputs": [
        {
          "data": {
            "text/plain": [
              "0.7746"
            ]
          },
          "execution_count": 1249,
          "metadata": {},
          "output_type": "execute_result"
        }
      ],
      "source": [
        "\n",
        "# acccuracy for gaussian bayes on 0.5878\n",
        "accuracy(y_test,y_hat_gnb)\n"
      ]
    },
    {
      "cell_type": "code",
      "execution_count": 1250,
      "metadata": {
        "colab": {
          "base_uri": "https://localhost:8080/"
        },
        "id": "vavISwKWjq4E",
        "outputId": "399884d6-82ac-4141-94ce-b526e1cd79c0"
      },
      "outputs": [
        {
          "data": {
            "text/plain": [
              "0.9108"
            ]
          },
          "execution_count": 1250,
          "metadata": {},
          "output_type": "execute_result"
        }
      ],
      "source": [
        "accuracy(y_test,y_hat_gb)\n",
        "# previous accuracy was 0.7532"
      ]
    },
    {
      "cell_type": "code",
      "execution_count": 1251,
      "metadata": {},
      "outputs": [],
      "source": [
        "\n",
        "def confusion_matrix(y, y_hat):\n",
        "    # Create a DataFrame initialized with zeros instead of NaN\n",
        "    cm = pd.DataFrame(0, index=np.unique(y), columns=np.unique(y))\n",
        "    \n",
        "    # Increment the appropriate cell for each pair of actual and predicted labels\n",
        "    for i in range(len(y)):\n",
        "        cm.loc[y[i], y_hat[i]] += 1\n",
        "\n",
        "    return cm\n"
      ]
    },
    {
      "cell_type": "code",
      "execution_count": 1252,
      "metadata": {},
      "outputs": [
        {
          "data": {
            "text/html": [
              "<div>\n",
              "<style scoped>\n",
              "    .dataframe tbody tr th:only-of-type {\n",
              "        vertical-align: middle;\n",
              "    }\n",
              "\n",
              "    .dataframe tbody tr th {\n",
              "        vertical-align: top;\n",
              "    }\n",
              "\n",
              "    .dataframe thead th {\n",
              "        text-align: right;\n",
              "    }\n",
              "</style>\n",
              "<table border=\"1\" class=\"dataframe\">\n",
              "  <thead>\n",
              "    <tr style=\"text-align: right;\">\n",
              "      <th></th>\n",
              "      <th>0</th>\n",
              "      <th>1</th>\n",
              "      <th>2</th>\n",
              "      <th>3</th>\n",
              "      <th>4</th>\n",
              "      <th>5</th>\n",
              "      <th>6</th>\n",
              "      <th>7</th>\n",
              "      <th>8</th>\n",
              "      <th>9</th>\n",
              "    </tr>\n",
              "  </thead>\n",
              "  <tbody>\n",
              "    <tr>\n",
              "      <th>0</th>\n",
              "      <td>887</td>\n",
              "      <td>0</td>\n",
              "      <td>6</td>\n",
              "      <td>3</td>\n",
              "      <td>4</td>\n",
              "      <td>8</td>\n",
              "      <td>23</td>\n",
              "      <td>1</td>\n",
              "      <td>44</td>\n",
              "      <td>4</td>\n",
              "    </tr>\n",
              "    <tr>\n",
              "      <th>1</th>\n",
              "      <td>0</td>\n",
              "      <td>1087</td>\n",
              "      <td>3</td>\n",
              "      <td>5</td>\n",
              "      <td>0</td>\n",
              "      <td>1</td>\n",
              "      <td>7</td>\n",
              "      <td>0</td>\n",
              "      <td>31</td>\n",
              "      <td>1</td>\n",
              "    </tr>\n",
              "    <tr>\n",
              "      <th>2</th>\n",
              "      <td>19</td>\n",
              "      <td>21</td>\n",
              "      <td>690</td>\n",
              "      <td>45</td>\n",
              "      <td>10</td>\n",
              "      <td>4</td>\n",
              "      <td>92</td>\n",
              "      <td>8</td>\n",
              "      <td>135</td>\n",
              "      <td>8</td>\n",
              "    </tr>\n",
              "    <tr>\n",
              "      <th>3</th>\n",
              "      <td>10</td>\n",
              "      <td>32</td>\n",
              "      <td>23</td>\n",
              "      <td>766</td>\n",
              "      <td>3</td>\n",
              "      <td>17</td>\n",
              "      <td>23</td>\n",
              "      <td>16</td>\n",
              "      <td>63</td>\n",
              "      <td>57</td>\n",
              "    </tr>\n",
              "    <tr>\n",
              "      <th>4</th>\n",
              "      <td>6</td>\n",
              "      <td>3</td>\n",
              "      <td>9</td>\n",
              "      <td>3</td>\n",
              "      <td>559</td>\n",
              "      <td>10</td>\n",
              "      <td>32</td>\n",
              "      <td>6</td>\n",
              "      <td>34</td>\n",
              "      <td>320</td>\n",
              "    </tr>\n",
              "    <tr>\n",
              "      <th>5</th>\n",
              "      <td>26</td>\n",
              "      <td>20</td>\n",
              "      <td>9</td>\n",
              "      <td>89</td>\n",
              "      <td>24</td>\n",
              "      <td>467</td>\n",
              "      <td>23</td>\n",
              "      <td>8</td>\n",
              "      <td>174</td>\n",
              "      <td>52</td>\n",
              "    </tr>\n",
              "    <tr>\n",
              "      <th>6</th>\n",
              "      <td>9</td>\n",
              "      <td>12</td>\n",
              "      <td>13</td>\n",
              "      <td>2</td>\n",
              "      <td>3</td>\n",
              "      <td>18</td>\n",
              "      <td>879</td>\n",
              "      <td>0</td>\n",
              "      <td>21</td>\n",
              "      <td>1</td>\n",
              "    </tr>\n",
              "    <tr>\n",
              "      <th>7</th>\n",
              "      <td>0</td>\n",
              "      <td>17</td>\n",
              "      <td>9</td>\n",
              "      <td>8</td>\n",
              "      <td>21</td>\n",
              "      <td>1</td>\n",
              "      <td>3</td>\n",
              "      <td>779</td>\n",
              "      <td>28</td>\n",
              "      <td>162</td>\n",
              "    </tr>\n",
              "    <tr>\n",
              "      <th>8</th>\n",
              "      <td>8</td>\n",
              "      <td>68</td>\n",
              "      <td>10</td>\n",
              "      <td>26</td>\n",
              "      <td>15</td>\n",
              "      <td>26</td>\n",
              "      <td>8</td>\n",
              "      <td>6</td>\n",
              "      <td>721</td>\n",
              "      <td>86</td>\n",
              "    </tr>\n",
              "    <tr>\n",
              "      <th>9</th>\n",
              "      <td>4</td>\n",
              "      <td>8</td>\n",
              "      <td>5</td>\n",
              "      <td>9</td>\n",
              "      <td>28</td>\n",
              "      <td>1</td>\n",
              "      <td>0</td>\n",
              "      <td>21</td>\n",
              "      <td>22</td>\n",
              "      <td>911</td>\n",
              "    </tr>\n",
              "  </tbody>\n",
              "</table>\n",
              "</div>"
            ],
            "text/plain": [
              "     0     1    2    3    4    5    6    7    8    9\n",
              "0  887     0    6    3    4    8   23    1   44    4\n",
              "1    0  1087    3    5    0    1    7    0   31    1\n",
              "2   19    21  690   45   10    4   92    8  135    8\n",
              "3   10    32   23  766    3   17   23   16   63   57\n",
              "4    6     3    9    3  559   10   32    6   34  320\n",
              "5   26    20    9   89   24  467   23    8  174   52\n",
              "6    9    12   13    2    3   18  879    0   21    1\n",
              "7    0    17    9    8   21    1    3  779   28  162\n",
              "8    8    68   10   26   15   26    8    6  721   86\n",
              "9    4     8    5    9   28    1    0   21   22  911"
            ]
          },
          "execution_count": 1252,
          "metadata": {},
          "output_type": "execute_result"
        }
      ],
      "source": [
        "# confusion matrix for naive bayes\n",
        "confusion_matrix(y_test,y_hat_gnb)\n"
      ]
    },
    {
      "cell_type": "code",
      "execution_count": 1253,
      "metadata": {},
      "outputs": [
        {
          "data": {
            "text/html": [
              "<div>\n",
              "<style scoped>\n",
              "    .dataframe tbody tr th:only-of-type {\n",
              "        vertical-align: middle;\n",
              "    }\n",
              "\n",
              "    .dataframe tbody tr th {\n",
              "        vertical-align: top;\n",
              "    }\n",
              "\n",
              "    .dataframe thead th {\n",
              "        text-align: right;\n",
              "    }\n",
              "</style>\n",
              "<table border=\"1\" class=\"dataframe\">\n",
              "  <thead>\n",
              "    <tr style=\"text-align: right;\">\n",
              "      <th></th>\n",
              "      <th>0</th>\n",
              "      <th>1</th>\n",
              "      <th>2</th>\n",
              "      <th>3</th>\n",
              "      <th>4</th>\n",
              "      <th>5</th>\n",
              "      <th>6</th>\n",
              "      <th>7</th>\n",
              "      <th>8</th>\n",
              "      <th>9</th>\n",
              "    </tr>\n",
              "  </thead>\n",
              "  <tbody>\n",
              "    <tr>\n",
              "      <th>0</th>\n",
              "      <td>951</td>\n",
              "      <td>0</td>\n",
              "      <td>3</td>\n",
              "      <td>7</td>\n",
              "      <td>0</td>\n",
              "      <td>4</td>\n",
              "      <td>4</td>\n",
              "      <td>2</td>\n",
              "      <td>9</td>\n",
              "      <td>0</td>\n",
              "    </tr>\n",
              "    <tr>\n",
              "      <th>1</th>\n",
              "      <td>0</td>\n",
              "      <td>1098</td>\n",
              "      <td>8</td>\n",
              "      <td>3</td>\n",
              "      <td>1</td>\n",
              "      <td>0</td>\n",
              "      <td>6</td>\n",
              "      <td>0</td>\n",
              "      <td>19</td>\n",
              "      <td>0</td>\n",
              "    </tr>\n",
              "    <tr>\n",
              "      <th>2</th>\n",
              "      <td>8</td>\n",
              "      <td>3</td>\n",
              "      <td>942</td>\n",
              "      <td>17</td>\n",
              "      <td>4</td>\n",
              "      <td>1</td>\n",
              "      <td>3</td>\n",
              "      <td>4</td>\n",
              "      <td>49</td>\n",
              "      <td>1</td>\n",
              "    </tr>\n",
              "    <tr>\n",
              "      <th>3</th>\n",
              "      <td>8</td>\n",
              "      <td>0</td>\n",
              "      <td>9</td>\n",
              "      <td>904</td>\n",
              "      <td>1</td>\n",
              "      <td>9</td>\n",
              "      <td>0</td>\n",
              "      <td>5</td>\n",
              "      <td>60</td>\n",
              "      <td>14</td>\n",
              "    </tr>\n",
              "    <tr>\n",
              "      <th>4</th>\n",
              "      <td>1</td>\n",
              "      <td>0</td>\n",
              "      <td>13</td>\n",
              "      <td>2</td>\n",
              "      <td>877</td>\n",
              "      <td>0</td>\n",
              "      <td>4</td>\n",
              "      <td>5</td>\n",
              "      <td>12</td>\n",
              "      <td>68</td>\n",
              "    </tr>\n",
              "    <tr>\n",
              "      <th>5</th>\n",
              "      <td>7</td>\n",
              "      <td>0</td>\n",
              "      <td>2</td>\n",
              "      <td>40</td>\n",
              "      <td>2</td>\n",
              "      <td>732</td>\n",
              "      <td>12</td>\n",
              "      <td>2</td>\n",
              "      <td>85</td>\n",
              "      <td>10</td>\n",
              "    </tr>\n",
              "    <tr>\n",
              "      <th>6</th>\n",
              "      <td>11</td>\n",
              "      <td>2</td>\n",
              "      <td>4</td>\n",
              "      <td>0</td>\n",
              "      <td>5</td>\n",
              "      <td>14</td>\n",
              "      <td>903</td>\n",
              "      <td>0</td>\n",
              "      <td>19</td>\n",
              "      <td>0</td>\n",
              "    </tr>\n",
              "    <tr>\n",
              "      <th>7</th>\n",
              "      <td>0</td>\n",
              "      <td>7</td>\n",
              "      <td>12</td>\n",
              "      <td>10</td>\n",
              "      <td>17</td>\n",
              "      <td>1</td>\n",
              "      <td>0</td>\n",
              "      <td>872</td>\n",
              "      <td>16</td>\n",
              "      <td>93</td>\n",
              "    </tr>\n",
              "    <tr>\n",
              "      <th>8</th>\n",
              "      <td>9</td>\n",
              "      <td>6</td>\n",
              "      <td>9</td>\n",
              "      <td>23</td>\n",
              "      <td>4</td>\n",
              "      <td>7</td>\n",
              "      <td>3</td>\n",
              "      <td>4</td>\n",
              "      <td>897</td>\n",
              "      <td>12</td>\n",
              "    </tr>\n",
              "    <tr>\n",
              "      <th>9</th>\n",
              "      <td>5</td>\n",
              "      <td>5</td>\n",
              "      <td>5</td>\n",
              "      <td>9</td>\n",
              "      <td>11</td>\n",
              "      <td>0</td>\n",
              "      <td>0</td>\n",
              "      <td>20</td>\n",
              "      <td>22</td>\n",
              "      <td>932</td>\n",
              "    </tr>\n",
              "  </tbody>\n",
              "</table>\n",
              "</div>"
            ],
            "text/plain": [
              "     0     1    2    3    4    5    6    7    8    9\n",
              "0  951     0    3    7    0    4    4    2    9    0\n",
              "1    0  1098    8    3    1    0    6    0   19    0\n",
              "2    8     3  942   17    4    1    3    4   49    1\n",
              "3    8     0    9  904    1    9    0    5   60   14\n",
              "4    1     0   13    2  877    0    4    5   12   68\n",
              "5    7     0    2   40    2  732   12    2   85   10\n",
              "6   11     2    4    0    5   14  903    0   19    0\n",
              "7    0     7   12   10   17    1    0  872   16   93\n",
              "8    9     6    9   23    4    7    3    4  897   12\n",
              "9    5     5    5    9   11    0    0   20   22  932"
            ]
          },
          "execution_count": 1253,
          "metadata": {},
          "output_type": "execute_result"
        }
      ],
      "source": [
        "# confusion matrix for gaussian naive bayes\n",
        "confusion_matrix(y_test,y_hat_gb)\n",
        "\n",
        "# 93 things were predicted 7 but actually 9"
      ]
    }
  ],
  "metadata": {
    "colab": {
      "provenance": []
    },
    "kernelspec": {
      "display_name": "Python 3",
      "name": "python3"
    },
    "language_info": {
      "codemirror_mode": {
        "name": "ipython",
        "version": 3
      },
      "file_extension": ".py",
      "mimetype": "text/x-python",
      "name": "python",
      "nbconvert_exporter": "python",
      "pygments_lexer": "ipython3",
      "version": "3.11.7"
    }
  },
  "nbformat": 4,
  "nbformat_minor": 0
}
